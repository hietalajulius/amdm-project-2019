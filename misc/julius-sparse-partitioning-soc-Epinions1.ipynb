{
 "cells": [
  {
   "cell_type": "code",
   "execution_count": 1,
   "metadata": {},
   "outputs": [],
   "source": [
    "from graph import Graph\n",
    "import networkx as nx\n",
    "from scipy.sparse.linalg import eigs\n",
    "from sklearn.cluster import KMeans\n",
    "import numpy as np\n",
    "import pandas as pd"
   ]
  },
  {
   "cell_type": "code",
   "execution_count": 2,
   "metadata": {},
   "outputs": [
    {
     "name": "stdout",
     "output_type": "stream",
     "text": [
      "Creating graph from soc-Epinions1\n",
      "Reading edge data from /Users/juliushietala/Desktop/School/amdm/amdm-project-2019/graphs_processed/soc-Epinions1.txt\n",
      "   node1  node2\n",
      "0      0      1\n",
      "1      0      2\n",
      "2      0      3\n",
      "3      0      4\n",
      "4      0      5\n",
      "Added nodes to graph\n",
      "Added edges to graph\n",
      "Finding eigens\n"
     ]
    },
    {
     "name": "stderr",
     "output_type": "stream",
     "text": [
      "/Users/juliushietala/anaconda3/lib/python3.6/site-packages/scipy/sparse/linalg/dsolve/linsolve.py:295: SparseEfficiencyWarning: splu requires CSC matrix format\n",
      "  warn('splu requires CSC matrix format', SparseEfficiencyWarning)\n"
     ]
    },
    {
     "name": "stdout",
     "output_type": "stream",
     "text": [
      "Clustering\n"
     ]
    },
    {
     "name": "stderr",
     "output_type": "stream",
     "text": [
      "/Users/juliushietala/anaconda3/lib/python3.6/site-packages/sklearn/utils/validation.py:433: ComplexWarning: Casting complex values to real discards the imaginary part\n",
      "  array = np.array(array, dtype=dtype, order=order, copy=copy)\n"
     ]
    }
   ],
   "source": [
    "fname = 'soc-Epinions1'  # test graph\n",
    "\n",
    "#for fname in fnames:\n",
    "print(f\"Creating graph from {fname}\")\n",
    "graph = Graph(fname=fname,\n",
    "                fpath=\"\")\n",
    "\n",
    "laplacian = nx.laplacian_matrix(graph.G)\n",
    "\n",
    "print(\"Finding eigens\")\n",
    "vals, vecs = eigs(laplacian.asfptype(), k=10, sigma=0, OPpart='r')\n",
    "print(\"Clustering\")\n",
    "labels = KMeans(init='k-means++', n_clusters=10).fit_predict(vecs)\n",
    "'''\n",
    "total_conductance = 0\n",
    "for i in range(20):\n",
    "    idx = np.where(labels == i)[0]\n",
    "    print(\"Length of cluster:\", len(idx))\n",
    "    conductance = nx.algorithms.cuts.conductance(graph.G, idx)\n",
    "    total_conductance += conductance\n",
    "    print(\"Conductance of cluster\", i, \":\", conductance)\n",
    "print(\"Total conductance\", total_conductance)\n",
    "'''\n",
    "\n",
    "labels_df = pd.DataFrame(labels)\n",
    "labels_df.to_csv('soc-Epinions1.output',sep=' ',header=False,index=True)\n",
    "graphID = 'soc-Epinions1'\n",
    "vert = 75877\n",
    "edg = 405739\n",
    "num_k = 10\n",
    "\n",
    "# TODO\n",
    "# write: the first line specifies the problem parameters (# graphID numOfVertices numOfEdges k)\n",
    "with open('soc-Epinions1.output', 'r') as original: data = original.read()\n",
    "with open('soc-Epinions1.output', 'w') as modified: modified.write(f\"# {graphID} {vert} {edg} {num_k}\\n\" + data)"
   ]
  },
  {
   "cell_type": "code",
   "execution_count": 3,
   "metadata": {},
   "outputs": [
    {
     "name": "stdout",
     "output_type": "stream",
     "text": [
      "Length of cluster: 75723\n",
      "Conductance of cluster 0 : 0.021791767554479417\n",
      "Length of cluster: 30\n",
      "Conductance of cluster 1 : 0.01694915254237288\n",
      "Length of cluster: 35\n",
      "Conductance of cluster 2 : 0.006060606060606061\n",
      "Length of cluster: 25\n",
      "Conductance of cluster 3 : 0.017543859649122806\n",
      "Length of cluster: 21\n",
      "Conductance of cluster 4 : 0.02127659574468085\n",
      "Length of cluster: 9\n",
      "Conductance of cluster 5 : 0.05263157894736842\n",
      "Length of cluster: 7\n",
      "Conductance of cluster 6 : 0.07692307692307693\n",
      "Length of cluster: 8\n",
      "Conductance of cluster 7 : 0.06666666666666667\n",
      "Length of cluster: 7\n",
      "Conductance of cluster 8 : 0.07692307692307693\n",
      "Length of cluster: 12\n",
      "Conductance of cluster 9 : 0.04\n",
      "Total conductance 0.39676638101145095\n"
     ]
    }
   ],
   "source": [
    "##Cond cond\n",
    "total_conductance = 0\n",
    "for i in range(10):\n",
    "    idx = np.where(labels == i)[0]\n",
    "    print(\"Length of cluster:\", len(idx))\n",
    "    conductance = nx.algorithms.cuts.conductance(graph.G, idx)\n",
    "    total_conductance += conductance\n",
    "    print(\"Conductance of cluster\", i, \":\", conductance)\n",
    "print(\"Total conductance\", total_conductance)"
   ]
  },
  {
   "cell_type": "code",
   "execution_count": 4,
   "metadata": {},
   "outputs": [
    {
     "name": "stdout",
     "output_type": "stream",
     "text": [
      "Length of cluster: 75723\n",
      "Conductance of cluster 0 : 0.021802864075720012\n",
      "Length of cluster: 30\n",
      "Conductance of cluster 1 : 0.016950384951276296\n",
      "Length of cluster: 35\n",
      "Conductance of cluster 2 : 0.006061838630526671\n",
      "Length of cluster: 25\n",
      "Conductance of cluster 3 : 0.017545092054988564\n",
      "Length of cluster: 21\n",
      "Conductance of cluster 4 : 0.021277828135358553\n",
      "Length of cluster: 9\n",
      "Conductance of cluster 5 : 0.05263281129552156\n",
      "Length of cluster: 7\n",
      "Conductance of cluster 6 : 0.07692430926211805\n",
      "Length of cluster: 8\n",
      "Conductance of cluster 7 : 0.0666678990087451\n",
      "Length of cluster: 7\n",
      "Conductance of cluster 8 : 0.07692430926211805\n",
      "Length of cluster: 12\n",
      "Conductance of cluster 9 : 0.0400012323572653\n",
      "Total conductance 0.3967885690336381\n"
     ]
    }
   ],
   "source": [
    "##COND norm cut\n",
    "total_conductance = 0\n",
    "for i in range(10):\n",
    "    idx = np.where(labels == i)[0]\n",
    "    print(\"Length of cluster:\", len(idx))\n",
    "    conductance = nx.algorithms.cuts.normalized_cut_size(graph.G, idx)\n",
    "    total_conductance += conductance\n",
    "    print(\"Conductance of cluster\", i, \":\", conductance)\n",
    "print(\"Total conductance\", total_conductance)"
   ]
  },
  {
   "cell_type": "code",
   "execution_count": null,
   "metadata": {},
   "outputs": [],
   "source": [
    "\n"
   ]
  },
  {
   "cell_type": "code",
   "execution_count": null,
   "metadata": {},
   "outputs": [],
   "source": []
  },
  {
   "cell_type": "code",
   "execution_count": null,
   "metadata": {},
   "outputs": [],
   "source": []
  }
 ],
 "metadata": {
  "kernelspec": {
   "display_name": "Python 3",
   "language": "python",
   "name": "python3"
  },
  "language_info": {
   "codemirror_mode": {
    "name": "ipython",
    "version": 3
   },
   "file_extension": ".py",
   "mimetype": "text/x-python",
   "name": "python",
   "nbconvert_exporter": "python",
   "pygments_lexer": "ipython3",
   "version": "3.6.5"
  }
 },
 "nbformat": 4,
 "nbformat_minor": 2
}
