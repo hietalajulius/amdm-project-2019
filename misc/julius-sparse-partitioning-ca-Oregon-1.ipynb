{
 "cells": [
  {
   "cell_type": "code",
   "execution_count": 16,
   "metadata": {},
   "outputs": [],
   "source": [
    "from graph import Graph\n",
    "import networkx as nx\n",
    "from scipy.sparse.linalg import eigs\n",
    "from sklearn.cluster import KMeans\n",
    "import numpy as np\n",
    "import pandas as pd"
   ]
  },
  {
   "cell_type": "code",
   "execution_count": 17,
   "metadata": {},
   "outputs": [
    {
     "name": "stdout",
     "output_type": "stream",
     "text": [
      "Creating graph from Oregon-1\n",
      "Reading edge data from /Users/juliushietala/Desktop/School/amdm/amdm-project-2019/graphs_processed/Oregon-1.txt\n",
      "   node1  node2\n",
      "0      0    932\n",
      "1      1    932\n",
      "2      1    570\n",
      "3      1   1620\n",
      "4      2   2211\n",
      "Added nodes to graph\n",
      "Added edges to graph\n",
      "Finding eigens\n"
     ]
    },
    {
     "name": "stderr",
     "output_type": "stream",
     "text": [
      "/Users/juliushietala/anaconda3/lib/python3.6/site-packages/scipy/sparse/linalg/dsolve/linsolve.py:295: SparseEfficiencyWarning: splu requires CSC matrix format\n",
      "  warn('splu requires CSC matrix format', SparseEfficiencyWarning)\n"
     ]
    },
    {
     "name": "stdout",
     "output_type": "stream",
     "text": [
      "Clustering\n"
     ]
    },
    {
     "name": "stderr",
     "output_type": "stream",
     "text": [
      "/Users/juliushietala/anaconda3/lib/python3.6/site-packages/sklearn/utils/validation.py:433: ComplexWarning: Casting complex values to real discards the imaginary part\n",
      "  array = np.array(array, dtype=dtype, order=order, copy=copy)\n"
     ]
    }
   ],
   "source": [
    "fname = 'Oregon-1'  # test graph\n",
    "\n",
    "#for fname in fnames:\n",
    "print(f\"Creating graph from {fname}\")\n",
    "graph = Graph(fname=fname,\n",
    "                fpath=\"\")\n",
    "\n",
    "laplacian = nx.laplacian_matrix(graph.G)\n",
    "\n",
    "print(\"Finding eigens\")\n",
    "vals, vecs = eigs(laplacian.asfptype(), k=5, sigma=0, OPpart='r')\n",
    "print(\"Clustering\")\n",
    "labels = KMeans(init='k-means++',n_clusters=5).fit_predict(vecs)\n",
    "'''\n",
    "total_conductance = 0\n",
    "for i in range(20):\n",
    "    idx = np.where(labels == i)[0]\n",
    "    print(\"Length of cluster:\", len(idx))\n",
    "    conductance = nx.algorithms.cuts.conductance(graph.G, idx)\n",
    "    total_conductance += conductance\n",
    "    print(\"Conductance of cluster\", i, \":\", conductance)\n",
    "print(\"Total conductance\", total_conductance)\n",
    "'''\n",
    "\n",
    "labels_df = pd.DataFrame(labels)\n",
    "labels_df.to_csv('Oregon-1.output',sep=' ',header=False,index=True)\n",
    "graphID = 'Oregon-1'\n",
    "vert = 10670\n",
    "edg = 22002\n",
    "num_k = 5\n",
    "\n",
    "# TODO\n",
    "# write: the first line specifies the problem parameters (# graphID numOfVertices numOfEdges k)\n",
    "with open('Oregon-1.output', 'r') as original: data = original.read()\n",
    "with open('Oregon-1.output', 'w') as modified: modified.write(f\"# {graphID} {vert} {edg} {num_k}\\n\" + data)"
   ]
  },
  {
   "cell_type": "code",
   "execution_count": 18,
   "metadata": {},
   "outputs": [
    {
     "name": "stdout",
     "output_type": "stream",
     "text": [
      "Length of cluster: 10260\n",
      "Conductance of cluster 0 : 0.08524289642529789\n",
      "Length of cluster: 158\n",
      "Conductance of cluster 1 : 0.07945205479452055\n",
      "Length of cluster: 236\n",
      "Conductance of cluster 2 : 0.08908045977011494\n",
      "Length of cluster: 10\n",
      "Conductance of cluster 3 : 0.05263157894736842\n",
      "Length of cluster: 6\n",
      "Conductance of cluster 4 : 0.09090909090909091\n",
      "Total conductance 0.3973160808463927\n"
     ]
    }
   ],
   "source": [
    "##Cond cond\n",
    "total_conductance = 0\n",
    "for i in range(5):\n",
    "    idx = np.where(labels == i)[0]\n",
    "    print(\"Length of cluster:\", len(idx))\n",
    "    conductance = nx.algorithms.cuts.conductance(graph.G, idx)\n",
    "    total_conductance += conductance\n",
    "    print(\"Conductance of cluster\", i, \":\", conductance)\n",
    "print(\"Total conductance\", total_conductance)"
   ]
  },
  {
   "cell_type": "code",
   "execution_count": 19,
   "metadata": {},
   "outputs": [
    {
     "name": "stdout",
     "output_type": "stream",
     "text": [
      "Length of cluster: 10260\n",
      "Conductance of cluster 0 : 0.08741007187329733\n",
      "Length of cluster: 158\n",
      "Conductance of cluster 1 : 0.08011659797836987\n",
      "Length of cluster: 236\n",
      "Conductance of cluster 2 : 0.09051206593987572\n",
      "Length of cluster: 10\n",
      "Conductance of cluster 3 : 0.052654313970671815\n",
      "Length of cluster: 6\n",
      "Conductance of cluster 4 : 0.09093182179809597\n",
      "Total conductance 0.4016248715603107\n"
     ]
    }
   ],
   "source": [
    "##COND norm cut\n",
    "total_conductance = 0\n",
    "for i in range(5):\n",
    "    idx = np.where(labels == i)[0]\n",
    "    print(\"Length of cluster:\", len(idx))\n",
    "    conductance = nx.algorithms.cuts.normalized_cut_size(graph.G, idx)\n",
    "    total_conductance += conductance\n",
    "    print(\"Conductance of cluster\", i, \":\", conductance)\n",
    "print(\"Total conductance\", total_conductance)"
   ]
  },
  {
   "cell_type": "code",
   "execution_count": 21,
   "metadata": {},
   "outputs": [
    {
     "name": "stdout",
     "output_type": "stream",
     "text": [
      "Length of cluster: 10260\n",
      "Conductance of cluster 0 : 0.009064327485380117\n",
      "Length of cluster: 158\n",
      "Conductance of cluster 1 : 0.18354430379746836\n",
      "Length of cluster: 236\n",
      "Conductance of cluster 2 : 0.2627118644067797\n",
      "Length of cluster: 10\n",
      "Conductance of cluster 3 : 0.1\n",
      "Length of cluster: 6\n",
      "Conductance of cluster 4 : 0.16666666666666666\n",
      "Total conductance 0.7219871623562948\n"
     ]
    }
   ],
   "source": [
    "\n",
    "##COND cut this is correct\n",
    "total_conductance = 0\n",
    "for i in range(5):\n",
    "    idx = np.where(labels == i)[0]\n",
    "    print(\"Length of cluster:\", len(idx))\n",
    "    conductance = nx.algorithms.cuts.cut_size(graph.G, idx) / len(idx)\n",
    "    total_conductance += conductance\n",
    "    print(\"Conductance of cluster\", i, \":\", conductance)\n",
    "print(\"Total conductance\", total_conductance)"
   ]
  },
  {
   "cell_type": "code",
   "execution_count": null,
   "metadata": {},
   "outputs": [],
   "source": []
  },
  {
   "cell_type": "code",
   "execution_count": null,
   "metadata": {},
   "outputs": [],
   "source": []
  },
  {
   "cell_type": "code",
   "execution_count": null,
   "metadata": {},
   "outputs": [],
   "source": []
  }
 ],
 "metadata": {
  "kernelspec": {
   "display_name": "Python 3",
   "language": "python",
   "name": "python3"
  },
  "language_info": {
   "codemirror_mode": {
    "name": "ipython",
    "version": 3
   },
   "file_extension": ".py",
   "mimetype": "text/x-python",
   "name": "python",
   "nbconvert_exporter": "python",
   "pygments_lexer": "ipython3",
   "version": "3.6.5"
  }
 },
 "nbformat": 4,
 "nbformat_minor": 2
}
