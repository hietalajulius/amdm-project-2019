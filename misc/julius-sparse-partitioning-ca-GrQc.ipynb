{
 "cells": [
  {
   "cell_type": "code",
   "execution_count": 69,
   "metadata": {},
   "outputs": [],
   "source": [
    "from graph import Graph\n",
    "import networkx as nx\n",
    "from scipy.sparse.linalg import eigs\n",
    "from sklearn.cluster import KMeans\n",
    "import numpy as np\n",
    "import pandas as pd"
   ]
  },
  {
   "cell_type": "code",
   "execution_count": 70,
   "metadata": {},
   "outputs": [
    {
     "name": "stdout",
     "output_type": "stream",
     "text": [
      "Creating graph from ca-GrQc\n",
      "Reading edge data from /Users/juliushietala/Desktop/School/amdm/amdm-project-2019/graphs_processed/ca-GrQc.txt\n",
      "   node1  node2\n",
      "0      0   4016\n",
      "1      1   2977\n",
      "2      1    258\n",
      "3      1    421\n",
      "4      1   1201\n",
      "Added nodes to graph\n",
      "Added edges to graph\n",
      "Finding eigens\n",
      "Clustering\n"
     ]
    },
    {
     "name": "stderr",
     "output_type": "stream",
     "text": [
      "/Users/juliushietala/anaconda3/lib/python3.6/site-packages/scipy/sparse/linalg/dsolve/linsolve.py:295: SparseEfficiencyWarning: splu requires CSC matrix format\n",
      "  warn('splu requires CSC matrix format', SparseEfficiencyWarning)\n",
      "/Users/juliushietala/anaconda3/lib/python3.6/site-packages/sklearn/utils/validation.py:433: ComplexWarning: Casting complex values to real discards the imaginary part\n",
      "  array = np.array(array, dtype=dtype, order=order, copy=copy)\n"
     ]
    }
   ],
   "source": [
    "fname = 'ca-GrQc'  # test graph\n",
    "\n",
    "#for fname in fnames:\n",
    "print(f\"Creating graph from {fname}\")\n",
    "graph = Graph(fname=fname,\n",
    "                fpath=\"\")\n",
    "\n",
    "laplacian = nx.laplacian_matrix(graph.G)\n",
    "\n",
    "print(\"Finding eigens\")\n",
    "vals, vecs = eigs(laplacian.asfptype(), k=2, sigma=0, OPpart='r')\n",
    "print(\"Clustering\")\n",
    "labels = KMeans(init='k-means++', n_clusters=2).fit_predict(vecs)\n",
    "'''\n",
    "total_conductance = 0\n",
    "for i in range(20):\n",
    "    idx = np.where(labels == i)[0]\n",
    "    print(\"Length of cluster:\", len(idx))\n",
    "    conductance = nx.algorithms.cuts.conductance(graph.G, idx)\n",
    "    total_conductance += conductance\n",
    "    print(\"Conductance of cluster\", i, \":\", conductance)\n",
    "print(\"Total conductance\", total_conductance)\n",
    "'''\n",
    "\n",
    "labels_df = pd.DataFrame(labels)\n",
    "labels_df.to_csv('ca-GrQc.output',sep=' ',header=False,index=True)\n",
    "graphID = 'ca-GrQc'\n",
    "vert = 4158\n",
    "edg = 13428\n",
    "num_k = 2\n",
    "\n",
    "# TODO\n",
    "# write: the first line specifies the problem parameters (# graphID numOfVertices numOfEdges k)\n",
    "with open('ca-GrQc.output', 'r') as original: data = original.read()\n",
    "with open('ca-GrQc.output', 'w') as modified: modified.write(f\"# {graphID} {vert} {edg} {num_k}\\n\" + data)"
   ]
  },
  {
   "cell_type": "code",
   "execution_count": 71,
   "metadata": {},
   "outputs": [
    {
     "name": "stdout",
     "output_type": "stream",
     "text": [
      "Length of cluster: 4146\n",
      "Conductance of cluster 0 : 0.037037037037037035\n",
      "Length of cluster: 12\n",
      "Conductance of cluster 1 : 0.037037037037037035\n",
      "Total conductance 0.07407407407407407\n"
     ]
    }
   ],
   "source": [
    "##Cond cond\n",
    "total_conductance = 0\n",
    "for i in range(2):\n",
    "    idx = np.where(labels == i)[0]\n",
    "    print(\"Length of cluster:\", len(idx))\n",
    "    conductance = nx.algorithms.cuts.conductance(graph.G, idx)\n",
    "    total_conductance += conductance\n",
    "    print(\"Conductance of cluster\", i, \":\", conductance)\n",
    "print(\"Total conductance\", total_conductance)"
   ]
  },
  {
   "cell_type": "code",
   "execution_count": 72,
   "metadata": {},
   "outputs": [
    {
     "name": "stdout",
     "output_type": "stream",
     "text": [
      "Length of cluster: 4146\n",
      "Conductance of cluster 0 : 0.03707431013704076\n",
      "Length of cluster: 12\n",
      "Conductance of cluster 1 : 0.03707431013704076\n",
      "Total conductance 0.07414862027408152\n"
     ]
    }
   ],
   "source": [
    "##COND norm cut\n",
    "total_conductance = 0\n",
    "for i in range(2):\n",
    "    idx = np.where(labels == i)[0]\n",
    "    print(\"Length of cluster:\", len(idx))\n",
    "    conductance = nx.algorithms.cuts.normalized_cut_size(graph.G, idx)\n",
    "    total_conductance += conductance\n",
    "    print(\"Conductance of cluster\", i, \":\", conductance)\n",
    "print(\"Total conductance\", total_conductance)"
   ]
  },
  {
   "cell_type": "code",
   "execution_count": 73,
   "metadata": {},
   "outputs": [
    {
     "name": "stdout",
     "output_type": "stream",
     "text": [
      "Length of cluster: 4146\n",
      "Conductance of cluster 0 : 0.000241196333815726\n",
      "Length of cluster: 12\n",
      "Conductance of cluster 1 : 0.08333333333333333\n",
      "Total conductance 0.08357452966714905\n"
     ]
    }
   ],
   "source": [
    "##COND cut this is correct\n",
    "total_conductance = 0\n",
    "for i in range(2):\n",
    "    idx = np.where(labels == i)[0]\n",
    "    print(\"Length of cluster:\", len(idx))\n",
    "    conductance = nx.algorithms.cuts.cut_size(graph.G, idx) / len(idx)\n",
    "    total_conductance += conductance\n",
    "    print(\"Conductance of cluster\", i, \":\", conductance)\n",
    "print(\"Total conductance\", total_conductance)"
   ]
  },
  {
   "cell_type": "code",
   "execution_count": null,
   "metadata": {},
   "outputs": [],
   "source": []
  },
  {
   "cell_type": "code",
   "execution_count": null,
   "metadata": {},
   "outputs": [],
   "source": []
  }
 ],
 "metadata": {
  "kernelspec": {
   "display_name": "Python 3",
   "language": "python",
   "name": "python3"
  },
  "language_info": {
   "codemirror_mode": {
    "name": "ipython",
    "version": 3
   },
   "file_extension": ".py",
   "mimetype": "text/x-python",
   "name": "python",
   "nbconvert_exporter": "python",
   "pygments_lexer": "ipython3",
   "version": "3.6.5"
  }
 },
 "nbformat": 4,
 "nbformat_minor": 2
}
