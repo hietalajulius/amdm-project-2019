{
 "cells": [
  {
   "cell_type": "markdown",
   "metadata": {},
   "source": [
    "# Headline"
   ]
  },
  {
   "cell_type": "code",
   "execution_count": 1,
   "metadata": {
    "collapsed": true,
    "pycharm": {
     "is_executing": false
    }
   },
   "outputs": [
    {
     "name": "stdout",
     "output_type": "stream",
     "text": [
      "hello\n"
     ]
    }
   ],
   "source": [
    "print(\"hello\")\n",
    "\n"
   ]
  },
  {
   "cell_type": "code",
   "execution_count": 1,
   "metadata": {},
   "outputs": [],
   "source": [
    "from graph import Graph"
   ]
  },
  {
   "cell_type": "markdown",
   "metadata": {},
   "source": [
    "## Try with ca-GrQc (smallest graph)"
   ]
  },
  {
   "cell_type": "code",
   "execution_count": null,
   "metadata": {},
   "outputs": [
    {
     "name": "stdout",
     "output_type": "stream",
     "text": [
      "Reading edge data from C:\\Users\\jarkk\\PycharmProjects\\amdm-project-2019\\graphs_processed\\ca-GrQc.txt\n",
      "   node1  node2\n",
      "0      0   4016\n",
      "1      1   2977\n",
      "2      1    258\n",
      "3      1    421\n",
      "4      1   1201\n",
      "Added nodes to graph\n",
      "Added edges to graph\n",
      "Partitioning graph to 2 clusters for ca-GrQc\n",
      "Testing graph partitioning with generalized\n",
      "Creating laplacian\n",
      "Calculating eigenvalues and vectors\n",
      "total_conductance with k 2 and eigen k 2 is 0.0757\n",
      "New record 0.0757. Saving values\n",
      "Writing results to C:\\Users\\jarkk\\PycharmProjects\\amdm-project-2019\\results\\ca-GrQc.output\n",
      "total_conductance with k 2 and eigen k 3 is 0.0838\n",
      "total_conductance with k 2 and eigen k 4 is 0.0627\n",
      "New record 0.0627. Saving values\n",
      "Writing results to C:\\Users\\jarkk\\PycharmProjects\\amdm-project-2019\\results\\ca-GrQc.output\n",
      "total_conductance with k 2 and eigen k 5 is 0.0627\n",
      "total_conductance with k 2 and eigen k 6 is 0.0627\n",
      "total_conductance with k 2 and eigen k 7 is 0.1433\n",
      "total_conductance with k 2 and eigen k 8 is 0.1433\n",
      "total_conductance with k 2 and eigen k 9 is 0.0836\n",
      "total_conductance with k 2 and eigen k 10 is 0.0836\n",
      "total_conductance with k 2 and eigen k 11 is 0.0836\n",
      "total_conductance with k 2 and eigen k 12 is 0.0836\n",
      "total_conductance with k 2 and eigen k 13 is 0.0836\n",
      "total_conductance with k 2 and eigen k 14 is 0.1252\n",
      "total_conductance with k 2 and eigen k 15 is 0.1252\n",
      "total_conductance with k 2 and eigen k 16 is 0.1252\n",
      "total_conductance with k 2 and eigen k 17 is 0.1252\n",
      "total_conductance with k 2 and eigen k 18 is 0.1252\n",
      "total_conductance with k 2 and eigen k 19 is 0.1252\n",
      "total_conductance with k 2 and eigen k 20 is 0.1252\n"
     ]
    }
   ],
   "source": [
    "fname = 'ca-GrQc'\n",
    "graph = Graph(fname=fname,\n",
    "                  fpath=\"\")\n",
    "\n",
    "#graph.draw_map()\n",
    "graph.partition_graph(algorithm=\"sparse_k_test\")\n",
    "#gprah.draw_partitioned_map()"
   ]
  },
  {
   "cell_type": "code",
   "execution_count": null,
   "metadata": {},
   "outputs": [],
   "source": [
    "fnames_small = ['ca-GrQc',\n",
    "               'Oregon-1',\n",
    "               'soc-Epinions1',\n",
    "               'web-NotreDame',\n",
    "               ]\n",
    "\n",
    "# this takes a couple of days\n",
    "fnames_roadnet = ['roadNet-CA']  # test with smallest graph"
   ]
  },
  {
   "cell_type": "markdown",
   "metadata": {},
   "source": [
    "## Run eigenvector component experiments with smaller graphs\n",
    "\n",
    "Initialise fpath as filepath where the \"graphs_processed\" folder is located"
   ]
  },
  {
   "cell_type": "code",
   "execution_count": null,
   "metadata": {},
   "outputs": [],
   "source": [
    "# can run with larger grid\n",
    "fpath = \"\"\n",
    "for fname in fnames_small:\n",
    "    print(f\"Creating graph from {fname}\")\n",
    "    graph = Graph(fname=fname,\n",
    "                  fpath=\"\")\n",
    "    # graph.draw_map()\n",
    "    graph.partition_graph(algorithm=\"sparse_k_test\")\n",
    "    gprah.draw_partitioned_map()"
   ]
  }
 ],
 "metadata": {
  "kernelspec": {
   "display_name": "Python 3",
   "language": "python",
   "name": "python3"
  },
  "language_info": {
   "codemirror_mode": {
    "name": "ipython",
    "version": 3
   },
   "file_extension": ".py",
   "mimetype": "text/x-python",
   "name": "python",
   "nbconvert_exporter": "python",
   "pygments_lexer": "ipython3",
   "version": "3.6.5"
  },
  "pycharm": {
   "stem_cell": {
    "cell_type": "raw",
    "metadata": {
     "collapsed": false
    },
    "source": []
   }
  }
 },
 "nbformat": 4,
 "nbformat_minor": 1
}
