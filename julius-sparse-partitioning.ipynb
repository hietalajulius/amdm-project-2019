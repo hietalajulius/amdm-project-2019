{
 "cells": [
  {
   "cell_type": "code",
   "execution_count": 39,
   "metadata": {},
   "outputs": [],
   "source": [
    "from graph import Graph\n",
    "import networkx as nx\n",
    "from scipy.sparse.linalg import eigs\n",
    "from sklearn.cluster import KMeans\n",
    "import numpy as np\n",
    "import pandas as pd"
   ]
  },
  {
   "cell_type": "code",
   "execution_count": 2,
   "metadata": {},
   "outputs": [
    {
     "name": "stdout",
     "output_type": "stream",
     "text": [
      "Creating graph from roadNet-CA\n",
      "Reading edge data from /Users/juliushietala/Desktop/School/amdm/amdm-project-2019/graphs_processed/roadNet-CA.txt\n",
      "   node1  node2\n",
      "0      0      1\n",
      "1      0      2\n",
      "2      0    466\n",
      "3      1      6\n",
      "4      1    382\n",
      "Added nodes to graph\n",
      "Added edges to graph\n"
     ]
    }
   ],
   "source": [
    "fname = 'roadNet-CA'  # test graph\n",
    "\n",
    "#for fname in fnames:\n",
    "print(f\"Creating graph from {fname}\")\n",
    "graph = Graph(fname=fname,\n",
    "                fpath=\"\")\n",
    "\n",
    "laplacian = nx.laplacian_matrix(graph.G)\n",
    "\n",
    "vals, vecs = eigs(laplacian.asfptype(), k=50, sigma=0)\n",
    "\n",
    "labels = KMeans(init='k-means++', n_clusters=50).fit_predict(vecs)\n",
    "\n",
    "total_conductance = 0\n",
    "for i in range(50):\n",
    "    idx = np.where(labels == i)[0]\n",
    "    conductance = nx.algorithms.cuts.conductance(graph.G, idx)\n",
    "    total_conductance += conductance\n",
    "    print(\"Conductance of cluster\", i, \":\", conductance)\n",
    "print(total_conductance)\n",
    "\n",
    "labels_df = pd.DataFrame(labels)\n",
    "\n",
    "labels_df.to_csv(\"roadNet-CA.output\",sep=' ',header=False,index=True)\n",
    "graphID = \"roadNet-CA\"\n",
    "vert = 1957027\n",
    "edg = 2760388\n",
    "num_k = 50\n",
    "\n",
    "# TODO\n",
    "# write: the first line specifies the problem parameters (# graphID numOfVertices numOfEdges k)\n",
    "with open(\"roadNet-CA.output\", 'r') as original: data = original.read()\n",
    "with open(\"roadNet-CA.output\", 'w') as modified: modified.write(f\"# {graphID} {vert} {edg} {num_k}\\n\" + data)"
   ]
  }
 ],
 "metadata": {
  "kernelspec": {
   "display_name": "Python 3",
   "language": "python",
   "name": "python3"
  },
  "language_info": {
   "codemirror_mode": {
    "name": "ipython",
    "version": 3
   },
   "file_extension": ".py",
   "mimetype": "text/x-python",
   "name": "python",
   "nbconvert_exporter": "python",
   "pygments_lexer": "ipython3",
   "version": "3.6.5"
  }
 },
 "nbformat": 4,
 "nbformat_minor": 2
}
